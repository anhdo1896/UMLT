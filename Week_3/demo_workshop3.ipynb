{
 "cells": [
  {
   "cell_type": "markdown",
   "metadata": {
    "id": "AV8XyAJwggIs"
   },
   "source": [
    "# Workshop 3\n",
    "\n",
    "Starter code for workshop 3. You should have seen most of it before, but make sure you understand what it is doing!"
   ]
  },
  {
   "cell_type": "code",
   "execution_count": 7,
   "metadata": {
    "id": "s5lpZYdgggI0"
   },
   "outputs": [],
   "source": [
    "# Common imports\n",
    "import numpy as np\n",
    "import os\n",
    "\n",
    "# To plot pretty figures\n",
    "%matplotlib inline\n",
    "import matplotlib as mpl\n",
    "import matplotlib.pyplot as plt\n",
    "mpl.rc('axes', labelsize=14)\n",
    "mpl.rc('xtick', labelsize=12)\n",
    "mpl.rc('ytick', labelsize=12)"
   ]
  },
  {
   "cell_type": "code",
   "execution_count": 8,
   "metadata": {
    "id": "GxgIooOmggI7",
    "outputId": "d1f8e311-dae9-40e5-bbd3-0b86a7d58428"
   },
   "outputs": [
    {
     "data": {
      "text/html": [
       "<div>\n",
       "<style scoped>\n",
       "    .dataframe tbody tr th:only-of-type {\n",
       "        vertical-align: middle;\n",
       "    }\n",
       "\n",
       "    .dataframe tbody tr th {\n",
       "        vertical-align: top;\n",
       "    }\n",
       "\n",
       "    .dataframe thead th {\n",
       "        text-align: right;\n",
       "    }\n",
       "</style>\n",
       "<table border=\"1\" class=\"dataframe\">\n",
       "  <thead>\n",
       "    <tr style=\"text-align: right;\">\n",
       "      <th></th>\n",
       "      <th>longitude</th>\n",
       "      <th>latitude</th>\n",
       "      <th>housing_median_age</th>\n",
       "      <th>total_rooms</th>\n",
       "      <th>total_bedrooms</th>\n",
       "      <th>population</th>\n",
       "      <th>households</th>\n",
       "      <th>median_income</th>\n",
       "      <th>median_house_value</th>\n",
       "    </tr>\n",
       "  </thead>\n",
       "  <tbody>\n",
       "    <tr>\n",
       "      <th>0</th>\n",
       "      <td>-122.23</td>\n",
       "      <td>37.88</td>\n",
       "      <td>41</td>\n",
       "      <td>880</td>\n",
       "      <td>129.0</td>\n",
       "      <td>322</td>\n",
       "      <td>126</td>\n",
       "      <td>8.3252</td>\n",
       "      <td>452600</td>\n",
       "    </tr>\n",
       "    <tr>\n",
       "      <th>1</th>\n",
       "      <td>-122.22</td>\n",
       "      <td>37.86</td>\n",
       "      <td>21</td>\n",
       "      <td>7099</td>\n",
       "      <td>1106.0</td>\n",
       "      <td>2401</td>\n",
       "      <td>1138</td>\n",
       "      <td>8.3014</td>\n",
       "      <td>358500</td>\n",
       "    </tr>\n",
       "    <tr>\n",
       "      <th>2</th>\n",
       "      <td>-122.24</td>\n",
       "      <td>37.85</td>\n",
       "      <td>52</td>\n",
       "      <td>1467</td>\n",
       "      <td>190.0</td>\n",
       "      <td>496</td>\n",
       "      <td>177</td>\n",
       "      <td>7.2574</td>\n",
       "      <td>352100</td>\n",
       "    </tr>\n",
       "    <tr>\n",
       "      <th>3</th>\n",
       "      <td>-122.25</td>\n",
       "      <td>37.85</td>\n",
       "      <td>52</td>\n",
       "      <td>1274</td>\n",
       "      <td>235.0</td>\n",
       "      <td>558</td>\n",
       "      <td>219</td>\n",
       "      <td>5.6431</td>\n",
       "      <td>341300</td>\n",
       "    </tr>\n",
       "    <tr>\n",
       "      <th>4</th>\n",
       "      <td>-122.25</td>\n",
       "      <td>37.85</td>\n",
       "      <td>52</td>\n",
       "      <td>1627</td>\n",
       "      <td>280.0</td>\n",
       "      <td>565</td>\n",
       "      <td>259</td>\n",
       "      <td>3.8462</td>\n",
       "      <td>342200</td>\n",
       "    </tr>\n",
       "  </tbody>\n",
       "</table>\n",
       "</div>"
      ],
      "text/plain": [
       "   longitude  latitude  housing_median_age  total_rooms  total_bedrooms  \\\n",
       "0    -122.23     37.88                  41          880           129.0   \n",
       "1    -122.22     37.86                  21         7099          1106.0   \n",
       "2    -122.24     37.85                  52         1467           190.0   \n",
       "3    -122.25     37.85                  52         1274           235.0   \n",
       "4    -122.25     37.85                  52         1627           280.0   \n",
       "\n",
       "   population  households  median_income  median_house_value  \n",
       "0         322         126         8.3252              452600  \n",
       "1        2401        1138         8.3014              358500  \n",
       "2         496         177         7.2574              352100  \n",
       "3         558         219         5.6431              341300  \n",
       "4         565         259         3.8462              342200  "
      ]
     },
     "execution_count": 8,
     "metadata": {},
     "output_type": "execute_result"
    }
   ],
   "source": [
    "# Read data\n",
    "import pandas as pd\n",
    "\n",
    "housing = pd.read_csv(\"workshop3.csv\")\n",
    "housing.head()"
   ]
  },
  {
   "cell_type": "markdown",
   "metadata": {
    "id": "Vv9HKglOggI-"
   },
   "source": [
    "Split the available data 80/20 for training and testing. Don't use the test data until the very end!"
   ]
  },
  {
   "cell_type": "code",
   "execution_count": 9,
   "metadata": {
    "id": "65Oj7-4rggJB"
   },
   "outputs": [],
   "source": [
    "# Split our data in train and test\n",
    "from sklearn.model_selection import train_test_split\n",
    "\n",
    "train_set, test_set = train_test_split(housing, test_size=0.2, random_state=20)"
   ]
  },
  {
   "cell_type": "markdown",
   "metadata": {
    "id": "ZD2c4gIgggJE"
   },
   "source": [
    "median_house_value is the value we want to predict, so separate it from the other features."
   ]
  },
  {
   "cell_type": "code",
   "execution_count": 10,
   "metadata": {
    "id": "XZi7par8ggJG"
   },
   "outputs": [],
   "source": [
    "# Split train data in training_features (X) and training_labels \n",
    "training_features = train_set.drop([\"median_house_value\"], axis=1) # X\n",
    "training_labels = train_set[\"median_house_value\"].copy() # Y"
   ]
  },
  {
   "cell_type": "code",
   "execution_count": 11,
   "metadata": {
    "id": "g44l0LItggJI"
   },
   "outputs": [],
   "source": [
    "# Create a linear regression model\n",
    "from sklearn.linear_model import LinearRegression\n",
    "\n",
    "# Train and predict in train data\n",
    "lr = LinearRegression()\n",
    "lr.fit(training_features,training_labels)\n",
    "prediction_lr = lr.predict(training_features)"
   ]
  },
  {
   "cell_type": "code",
   "execution_count": 12,
   "metadata": {
    "id": "8sW6RAQgggJL",
    "outputId": "446f5c2a-1542-4a25-bf8d-01d074109ade"
   },
   "outputs": [
    {
     "name": "stdout",
     "output_type": "stream",
     "text": [
      "4883215704.094342\n",
      "69880.00933095488\n"
     ]
    }
   ],
   "source": [
    "# Get the root mean squared error\n",
    "from sklearn.metrics import mean_squared_error\n",
    "\n",
    "# Get mean squared error\n",
    "mse = mean_squared_error(training_labels,prediction_lr) #MSE\n",
    "# Get root mean squared error\n",
    "rmse = mean_squared_error(training_labels,prediction_lr,squared = False) #RMSE\n",
    "print(mse)\n",
    "print(rmse)"
   ]
  },
  {
   "cell_type": "code",
   "execution_count": 13,
   "metadata": {
    "id": "3_Hb2xvsggJT"
   },
   "outputs": [],
   "source": [
    "# Create a baseline using the mean of median_house variable\n",
    "baseline = np.full(training_labels.shape,training_labels.mean())"
   ]
  },
  {
   "cell_type": "code",
   "execution_count": 14,
   "metadata": {},
   "outputs": [
    {
     "data": {
      "text/plain": [
       "array([207484.99204698, 207484.99204698, 207484.99204698, ...,\n",
       "       207484.99204698, 207484.99204698, 207484.99204698])"
      ]
     },
     "execution_count": 14,
     "metadata": {},
     "output_type": "execute_result"
    }
   ],
   "source": [
    "baseline"
   ]
  },
  {
   "cell_type": "code",
   "execution_count": 15,
   "metadata": {
    "id": "6yUWQblxggJV",
    "outputId": "1c1a779d-0f59-45b7-8c74-ebf6b19644c8"
   },
   "outputs": [
    {
     "name": "stdout",
     "output_type": "stream",
     "text": [
      "115666.22344961535\n"
     ]
    }
   ],
   "source": [
    "# Get the rmse for our baseline\n",
    "rmse_bl = mean_squared_error(training_labels,baseline,squared = False) #RMSE\n",
    "print(rmse_bl)"
   ]
  },
  {
   "cell_type": "code",
   "execution_count": 16,
   "metadata": {
    "id": "LutPSP5hggJX"
   },
   "outputs": [],
   "source": [
    "# Try a new model - KNN\n",
    "from sklearn.neighbors import KNeighborsRegressor\n",
    "\n",
    "# We need to define the n_neighbors parameter\n",
    "knn = KNeighborsRegressor(n_neighbors= 1) # set the k value\n",
    "\n",
    "# Later we can train and predict in our training data\n",
    "knn.fit(training_features,training_labels)\n",
    "pred_knn = knn.predict(training_features)"
   ]
  },
  {
   "cell_type": "code",
   "execution_count": 17,
   "metadata": {
    "id": "gXfZl36lggJZ",
    "outputId": "ede7b7e6-690f-4e95-c13b-fa65703a2b7d"
   },
   "outputs": [
    {
     "name": "stdout",
     "output_type": "stream",
     "text": [
      "0.0\n"
     ]
    }
   ],
   "source": [
    "# Get the rmse of our KNN model\n",
    "rmse_knn = mean_squared_error(training_labels,pred_knn,squared = False) #RMSE\n",
    "print(rmse_knn)"
   ]
  },
  {
   "cell_type": "code",
   "execution_count": 18,
   "metadata": {
    "id": "1VFy5IkoggJc"
   },
   "outputs": [],
   "source": [
    "# Now, we go to see the use of cross validation\n",
    "from sklearn.model_selection import cross_val_score\n",
    "\n",
    "# We need to define a model\n",
    "knn = KNeighborsRegressor(n_neighbors= 5)\n",
    "# Implement cross_val_score in our knn model. We need to define the numbers of folds (cv).\n",
    "cv_scores = cross_val_score(knn, training_features, training_labels, cv=5,scoring= 'neg_root_mean_squared_error')"
   ]
  },
  {
   "cell_type": "code",
   "execution_count": 19,
   "metadata": {},
   "outputs": [
    {
     "data": {
      "text/plain": [
       "array([ -98917.06418581,  -99422.00966907, -100110.50308413,\n",
       "       -100079.4708306 , -100161.97417681])"
      ]
     },
     "execution_count": 19,
     "metadata": {},
     "output_type": "execute_result"
    }
   ],
   "source": [
    "cv_scores"
   ]
  },
  {
   "cell_type": "code",
   "execution_count": 20,
   "metadata": {
    "id": "n3nU9kxTggJe",
    "outputId": "b4a57c0f-38a8-4f92-d788-a101aad5cfa6"
   },
   "outputs": [
    {
     "name": "stdout",
     "output_type": "stream",
     "text": [
      "this is my rmse for cv:  99738.2043892845\n"
     ]
    }
   ],
   "source": [
    "# Using cross_validation (from sklearn) returns a negative rmse. Then, we need to add a negative to get the positive value.\n",
    "print('this is my rmse for cv: ', -cv_scores.mean())"
   ]
  },
  {
   "cell_type": "code",
   "execution_count": 21,
   "metadata": {
    "id": "luRfMnevggJf"
   },
   "outputs": [],
   "source": [
    "# Also, we can implement other similar function, cross_validate\n",
    "from sklearn.model_selection import cross_validate\n",
    "\n",
    "# Set a model\n",
    "knn = KNeighborsRegressor(n_neighbors= 5)\n",
    "# Get results\n",
    "cv_results = cross_validate(knn, training_features, training_labels, cv=5,scoring= 'neg_root_mean_squared_error')"
   ]
  },
  {
   "cell_type": "code",
   "execution_count": 22,
   "metadata": {
    "id": "p3Gg4CRYggJh",
    "outputId": "13781f1e-8c6b-436a-c90d-a36e6adb0367"
   },
   "outputs": [
    {
     "data": {
      "text/plain": [
       "{'fit_time': array([0.03590274, 0.02789354, 0.03092718, 0.02792573, 0.0309267 ]),\n",
       " 'score_time': array([0.03494239, 0.02496409, 0.02591968, 0.02592897, 0.02588415]),\n",
       " 'test_score': array([ -98917.06418581,  -99422.00966907, -100110.50308413,\n",
       "        -100079.4708306 , -100161.97417681])}"
      ]
     },
     "execution_count": 22,
     "metadata": {},
     "output_type": "execute_result"
    }
   ],
   "source": [
    "# This function gives us more information\n",
    "cv_results"
   ]
  },
  {
   "cell_type": "code",
   "execution_count": 23,
   "metadata": {
    "id": "FMHJ-DABggJi",
    "outputId": "c7f78773-dcf6-461b-a08a-0486ac6916e1"
   },
   "outputs": [
    {
     "data": {
      "text/plain": [
       "99738.2043892845"
      ]
     },
     "execution_count": 23,
     "metadata": {},
     "output_type": "execute_result"
    }
   ],
   "source": [
    "# In this way we can obtain the rmse for our cross validation process\n",
    "-cv_results['test_score'].mean()"
   ]
  },
  {
   "cell_type": "code",
   "execution_count": 24,
   "metadata": {
    "id": "jINd06kTggJj",
    "outputId": "afb1eb5b-3a6b-4e5d-f574-a7d8c87ffd65"
   },
   "outputs": [
    {
     "data": {
      "text/plain": [
       "{'algorithm': 'auto',\n",
       " 'leaf_size': 30,\n",
       " 'metric': 'minkowski',\n",
       " 'metric_params': None,\n",
       " 'n_jobs': None,\n",
       " 'n_neighbors': 5,\n",
       " 'p': 2,\n",
       " 'weights': 'uniform'}"
      ]
     },
     "execution_count": 24,
     "metadata": {},
     "output_type": "execute_result"
    }
   ],
   "source": [
    "# Now, we go to use GridSearchCV to determine which are the best parameters for our model\n",
    "from sklearn.model_selection import GridSearchCV\n",
    "\n",
    "# We go to use knn\n",
    "knn = KNeighborsRegressor()\n",
    "# Using the method \"get_params()\" we can see the different parameters which can change in our model\n",
    "knn.get_params()"
   ]
  },
  {
   "cell_type": "code",
   "execution_count": 25,
   "metadata": {
    "id": "rlt_8jBqggJk",
    "outputId": "ee311ed8-84f0-4b95-a4c3-c169ed986082"
   },
   "outputs": [
    {
     "data": {
      "text/plain": [
       "GridSearchCV(estimator=KNeighborsRegressor(),\n",
       "             param_grid={'n_neighbors': [3, 5, 7, 9, 11],\n",
       "                         'weights': ['uniform', 'distance']},\n",
       "             scoring='neg_root_mean_squared_error')"
      ]
     },
     "execution_count": 25,
     "metadata": {},
     "output_type": "execute_result"
    }
   ],
   "source": [
    "# We need to create a dictionary with the different values that we go to use\n",
    "parameters = {'n_neighbors':[3,5,7,9,11], 'weights':['uniform', 'distance']}\n",
    "\n",
    "# Create our GridSearchCV model\n",
    "clf = GridSearchCV(knn, parameters,scoring= 'neg_root_mean_squared_error')\n",
    "\n",
    "# Train our GridSearch. This can take long time, if we have many possible values for each parameter\n",
    "clf.fit(training_features, training_labels)"
   ]
  },
  {
   "cell_type": "code",
   "execution_count": 67,
   "metadata": {
    "id": "a8_pVenjggJm",
    "outputId": "454dc176-e44f-46f9-8ca3-77e3e53ee86a"
   },
   "outputs": [
    {
     "data": {
      "text/plain": [
       "{'n_neighbors': 11, 'weights': 'distance'}"
      ]
     },
     "execution_count": 67,
     "metadata": {},
     "output_type": "execute_result"
    }
   ],
   "source": [
    "# Finally, we can obtain the atribute \"best_params_\" from our GridSearchCV object and know which are the best setting of parameters\n",
    "clf.best_params_"
   ]
  },
  {
   "cell_type": "code",
   "execution_count": 68,
   "metadata": {
    "id": "DiHuJpayggJo",
    "outputId": "88f3e7b5-1489-492a-9937-9d0d7fa651fc"
   },
   "outputs": [
    {
     "data": {
      "text/plain": [
       "96473.95790063369"
      ]
     },
     "execution_count": 68,
     "metadata": {},
     "output_type": "execute_result"
    }
   ],
   "source": [
    "# Also, we can get the score of the best scenario (using the best parameters). Remember that GridSearchCV uses cross validation internally\n",
    "-clf.best_score_"
   ]
  },
  {
   "cell_type": "code",
   "execution_count": 69,
   "metadata": {},
   "outputs": [
    {
     "data": {
      "text/plain": [
       "array([216600., 187700., 122500., ...,  67500., 150000., 239100.])"
      ]
     },
     "execution_count": 69,
     "metadata": {},
     "output_type": "execute_result"
    }
   ],
   "source": [
    "# How you can use the best parameters in a model?\n",
    "clf.predict(training_features)"
   ]
  },
  {
   "cell_type": "code",
   "execution_count": 70,
   "metadata": {},
   "outputs": [
    {
     "data": {
      "text/plain": [
       "KNeighborsRegressor(n_neighbors=11, weights='distance')"
      ]
     },
     "execution_count": 70,
     "metadata": {},
     "output_type": "execute_result"
    }
   ],
   "source": [
    "# Create a new instance of the model\n",
    "knn = KNeighborsRegressor()\n",
    "# You can use 'set_params' to set the \"best parameters\" for your model\n",
    "knn.set_params(**clf.best_params_)"
   ]
  },
  {
   "cell_type": "code",
   "execution_count": 71,
   "metadata": {},
   "outputs": [],
   "source": [
    "# Now, you can train in your all train data\n",
    "knn.fit(training_features, training_labels)\n",
    "\n",
    "# Split test data in training_features (X) and training_labels \n",
    "testing_features = test_set.drop([\"median_house_value\"], axis=1) # X\n",
    "testing_labels = test_set[\"median_house_value\"].copy() # Y\n",
    "\n",
    "# Predict in test\n",
    "prediction_test = knn.predict(testing_features)"
   ]
  },
  {
   "cell_type": "markdown",
   "metadata": {},
   "source": [
    "### **Now, you can implement this inside a Pipeline**"
   ]
  },
  {
   "cell_type": "code",
   "execution_count": 72,
   "metadata": {},
   "outputs": [
    {
     "data": {
      "text/plain": [
       "KNeighborsRegressor(n_neighbors=11, weights='distance')"
      ]
     },
     "execution_count": 72,
     "metadata": {},
     "output_type": "execute_result"
    }
   ],
   "source": [
    "# How you can create a Pipeline?\n",
    "from sklearn.pipeline import Pipeline\n",
    "from sklearn.impute import SimpleImputer\n",
    "from sklearn.preprocessing import StandardScaler\n",
    "\n",
    "# You can create a pipeline in this way\n",
    "first_pipeline = Pipeline([(\"imputer\",SimpleImputer(strategy='median')),\n",
    "                           ('std_scaler',StandardScaler()),\n",
    "                           ('model',KNeighborsRegressor())])\n",
    "\n",
    "# If you want, you can set the parameters in this way\n",
    "first_pipeline['model'].set_params(**clf.best_params_)"
   ]
  },
  {
   "cell_type": "code",
   "execution_count": 73,
   "metadata": {},
   "outputs": [
    {
     "data": {
      "text/plain": [
       "Pipeline(steps=[('imputer', SimpleImputer(strategy='median')),\n",
       "                ('std_scaler', StandardScaler()),\n",
       "                ('model',\n",
       "                 KNeighborsRegressor(n_neighbors=11, weights='distance'))])"
      ]
     },
     "execution_count": 73,
     "metadata": {},
     "output_type": "execute_result"
    }
   ],
   "source": [
    "# You can see now, how the pipeline contains the parameters which we selected\n",
    "first_pipeline"
   ]
  },
  {
   "cell_type": "code",
   "execution_count": 74,
   "metadata": {},
   "outputs": [],
   "source": [
    "# You can keep going with the next steps"
   ]
  }
 ],
 "metadata": {
  "colab": {
   "provenance": []
  },
  "kernelspec": {
   "display_name": "Python 3 (ipykernel)",
   "language": "python",
   "name": "python3"
  },
  "language_info": {
   "codemirror_mode": {
    "name": "ipython",
    "version": 3
   },
   "file_extension": ".py",
   "mimetype": "text/x-python",
   "name": "python",
   "nbconvert_exporter": "python",
   "pygments_lexer": "ipython3",
   "version": "3.9.13"
  }
 },
 "nbformat": 4,
 "nbformat_minor": 1
}
